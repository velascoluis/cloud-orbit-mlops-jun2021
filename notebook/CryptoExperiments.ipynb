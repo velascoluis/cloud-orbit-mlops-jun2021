{
 "cells": [
  {
   "cell_type": "markdown",
   "id": "9f0d3a9a",
   "metadata": {},
   "source": [
    "# MLOps - Cloud Orbit - Crypto forecast"
   ]
  },
  {
   "cell_type": "markdown",
   "id": "42015633",
   "metadata": {},
   "source": [
    "![Orbit](assets/orbit.png)"
   ]
  },
  {
   "cell_type": "code",
   "execution_count": null,
   "id": "c1a554b9",
   "metadata": {},
   "outputs": [],
   "source": [
    "#!pip install cryptowatch-sdk\n",
    "#!pip install google-cloud-aiplatform\n",
    "!mkdir -p $HOME/.cw\n",
    "!echo \"apikey: <to_do_developer>\" > $HOME/.cw/credentials.yml\n",
    "!cat  $HOME/.cw/credentials.yml"
   ]
  },
  {
   "cell_type": "code",
   "execution_count": null,
   "id": "1812ca82",
   "metadata": {},
   "outputs": [],
   "source": [
    "import cryptowatch as cw\n",
    "import pandas as pd\n",
    "from datetime import datetime, timedelta\n",
    "from google.cloud import bigquery\n",
    "from google.cloud import aiplatform\n",
    "from matplotlib import pyplot"
   ]
  },
  {
   "cell_type": "code",
   "execution_count": null,
   "id": "c023d4ab",
   "metadata": {},
   "outputs": [],
   "source": [
    "MARKET=\"<to_do_developer>\" \n",
    "PROJECT_ID = \"<to_do_developer>\" \n",
    "REGION = \"<to_do_developer>\" \n",
    "DATASET = \"<to_do_developer>\"\n",
    "TEMP_BUCKET=\"<to_do_developer>\""
   ]
  },
  {
   "cell_type": "code",
   "execution_count": null,
   "id": "946c95f9",
   "metadata": {},
   "outputs": [],
   "source": [
    "coinbase = cw.markets.list(MARKET)\n",
    "for market in coinbase.markets:\n",
    "\n",
    "    try:\n",
    "        ticker = \"{}:{}\".format(market.exchange, market.pair).upper()\n",
    "        candles = cw.markets.get(ticker, ohlc=True, periods=[\"1w\"])\n",
    "\n",
    "\n",
    "        close_ts, wkly_open, wkly_close = (\n",
    "            candles.of_1w[-1][0],\n",
    "            candles.of_1w[-1][1],\n",
    "            candles.of_1w[-1][4],\n",
    "        )\n",
    "\n",
    "        if wkly_open == 0:\n",
    "            continue\n",
    "        perf = (wkly_open - wkly_close) * 100 / wkly_open\n",
    "\n",
    "    \n",
    "        if perf >= 10:\n",
    "            open_ts = datetime.utcfromtimestamp(close_ts) - timedelta(days=7)\n",
    "            print(\"{} ganó {:.2f}% desde {}\".format(ticker, perf, open_ts))\n",
    "    except:\n",
    "        print(\"Execpcion capturada, pero continuamos ..\")"
   ]
  },
  {
   "cell_type": "code",
   "execution_count": null,
   "id": "47c0f9c6",
   "metadata": {},
   "outputs": [],
   "source": [
    "TICKET=\"OXTUSD\"\n",
    "TABLE = \"candles_15min_\"+TICKET\n",
    "candles = cw.markets.get(MARKET+\":\"+TICKET, ohlc=True)"
   ]
  },
  {
   "cell_type": "code",
   "execution_count": null,
   "id": "5f11ccfe",
   "metadata": {},
   "outputs": [],
   "source": [
    "rows_list = []\n",
    "for x in candles.of_15m:\n",
    "    close_ts = datetime.utcfromtimestamp(x[0])\n",
    "    open_value = x[1]\n",
    "    high_value = x[2]\n",
    "    low_value = x[3]\n",
    "    close_value = x[4]\n",
    "    volume_base = x[5]\n",
    "    volume_quote = x[6]\n",
    "    rows_list.append([TICKET,close_ts , open_value , high_value , low_value ,close_value ,volume_base ,volume_quote])\n",
    "df = pd.DataFrame(rows_list,columns = [\"ticket\",\"close_ts\" , \"open_value\" , \"high_value\" , \"low_value\" ,\"close_value\" ,\"volume_base\" ,\"volume_quote\" ])"
   ]
  },
  {
   "cell_type": "code",
   "execution_count": null,
   "id": "a7641252",
   "metadata": {},
   "outputs": [],
   "source": [
    "df"
   ]
  },
  {
   "cell_type": "code",
   "execution_count": null,
   "id": "4a925d81",
   "metadata": {},
   "outputs": [],
   "source": [
    "df['close_value'].plot()\n",
    "pyplot.show()"
   ]
  },
  {
   "cell_type": "code",
   "execution_count": null,
   "id": "941b7349",
   "metadata": {},
   "outputs": [],
   "source": [
    "client = bigquery.Client()\n",
    "table_id = PROJECT_ID+\".\"+DATASET+\".\"+ TABLE\n",
    "job_config = bigquery.LoadJobConfig(    \n",
    "    schema=[\n",
    "        bigquery.SchemaField(\"ticket\", bigquery.enums.SqlTypeNames.STRING),\n",
    "        bigquery.SchemaField(\"close_ts\", bigquery.enums.SqlTypeNames.TIMESTAMP),\n",
    "        bigquery.SchemaField(\"open_value\", bigquery.enums.SqlTypeNames.FLOAT64),\n",
    "        bigquery.SchemaField(\"high_value\", bigquery.enums.SqlTypeNames.FLOAT64),\n",
    "        bigquery.SchemaField(\"low_value\", bigquery.enums.SqlTypeNames.FLOAT64),\n",
    "        bigquery.SchemaField(\"close_value\", bigquery.enums.SqlTypeNames.FLOAT64),\n",
    "        bigquery.SchemaField(\"volume_base\", bigquery.enums.SqlTypeNames.FLOAT64),\n",
    "        bigquery.SchemaField(\"volume_quote\", bigquery.enums.SqlTypeNames.FLOAT64)\n",
    "    ],\n",
    "    write_disposition=\"WRITE_TRUNCATE\",\n",
    ")\n",
    "\n",
    "job = client.load_table_from_dataframe(\n",
    "    df, table_id, job_config=job_config\n",
    ")  \n",
    "job.result()  \n",
    "\n",
    "table = client.get_table(table_id)  \n",
    "print(\n",
    "    \"Operacion OK.  {} filas y {} columnas cargadas en {}\".format(\n",
    "        table.num_rows, len(table.schema), table_id\n",
    "    )\n",
    ")"
   ]
  },
  {
   "cell_type": "code",
   "execution_count": null,
   "id": "6a6de4a8",
   "metadata": {},
   "outputs": [],
   "source": [
    "aiplatform.init(project=PROJECT_ID, location=REGION)"
   ]
  },
  {
   "cell_type": "code",
   "execution_count": null,
   "id": "b203d7e6",
   "metadata": {},
   "outputs": [],
   "source": [
    "dataset = aiplatform.TimeSeriesDataset.create(display_name=table_id, bq_source='bq://'+PROJECT_ID+\".\"+DATASET+\".\"+ TABLE)\n",
    "dataset.wait()"
   ]
  },
  {
   "cell_type": "code",
   "execution_count": null,
   "id": "fac0ae98",
   "metadata": {},
   "outputs": [],
   "source": [
    "transformations = [\n",
    "        #{\"auto\": {\"column_name\": \"ticket\"}},\n",
    "        {\"timestamp\": {\"column_name\": \"close_ts\"}},\n",
    "        {\"numeric\": {\"column_name\": \"open_value\"}},\n",
    "        {\"numeric\": {\"column_name\": \"high_value\"}},\n",
    "        {\"numeric\": {\"column_name\": \"low_value\"}},\n",
    "        {\"numeric\": {\"column_name\": \"close_value\"}},\n",
    "        {\"numeric\": {\"column_name\": \"volume_base\"}},\n",
    "        {\"numeric\": {\"column_name\": \"volume_quote\"}},\n",
    "    ]\n",
    "autoMLForecastJob = aiplatform.AutoMLForecastingTrainingJob(display_name='candles_15min_'+TICKET+'AutoMLJob',\n",
    "                                                            column_transformations=transformations,\n",
    "                                                            optimization_objective=\"minimize-rmse\")"
   ]
  },
  {
   "cell_type": "code",
   "execution_count": null,
   "id": "c1f722fb",
   "metadata": {},
   "outputs": [],
   "source": [
    "model = autoMLForecastJob.run(dataset=dataset,\n",
    "                      target_column=\"close_value\",\n",
    "                      time_column=\"close_ts\",\n",
    "                      time_series_identifier_column=\"ticket\",\n",
    "                      unavailable_at_forecast_columns=[\"open_value\" , \"high_value\" , \"low_value\" ,\"close_value\" ,\"volume_base\" ,\"volume_quote\"],\n",
    "                      available_at_forecast_columns=[\"close_ts\"],\n",
    "                      forecast_horizon=10,\n",
    "                      data_granularity_unit=\"minute\",\n",
    "                      data_granularity_count=15,\n",
    "                      time_series_attribute_columns=[],\n",
    "                      budget_milli_node_hours=1000,\n",
    "                      model_display_name=\"candles_15min_\"+TICKET+\"AutoMLModel\")"
   ]
  },
  {
   "cell_type": "code",
   "execution_count": null,
   "id": "c2963ab4",
   "metadata": {},
   "outputs": [],
   "source": [
    "#Prepare prediction input table\n",
    "forecast_horizon=10\n",
    "data_granularity_count=15\n",
    "prediction_row_list=[]\n",
    "for x in range(forecast_horizon):\n",
    "    close_ts = datetime.now() +  timedelta(minutes = data_granularity_count*forecast_horizon)\n",
    "    open_value = 0\n",
    "    high_value = 0\n",
    "    low_value = 0\n",
    "    volume_base = 0\n",
    "    volume_quote = 0\n",
    "    close_value = None\n",
    "    prediction_row_list.append([TICKET,close_ts , open_value , high_value , low_value , volume_base ,volume_quote,close_value])\n",
    "df_pred = pd.DataFrame(prediction_row_list,columns = [\"ticket\",\"close_ts\" , \"open_value\" , \"high_value\" , \"low_value\" ,\"volume_base\" ,\"volume_quote\",\"close_value\"  ])    "
   ]
  },
  {
   "cell_type": "code",
   "execution_count": null,
   "id": "8964e83d",
   "metadata": {},
   "outputs": [],
   "source": [
    "df_pred"
   ]
  },
  {
   "cell_type": "code",
   "execution_count": null,
   "id": "fd086244",
   "metadata": {},
   "outputs": [],
   "source": [
    "client = bigquery.Client()\n",
    "table_id = PROJECT_ID+\".\"+DATASET+\".\"+ \"prediction_input\"\n",
    "job_config = bigquery.LoadJobConfig(    \n",
    "    schema=[\n",
    "        bigquery.SchemaField(\"ticket\", bigquery.enums.SqlTypeNames.STRING),\n",
    "        bigquery.SchemaField(\"close_ts\", bigquery.enums.SqlTypeNames.TIMESTAMP),\n",
    "        bigquery.SchemaField(\"open_value\", bigquery.enums.SqlTypeNames.FLOAT64),\n",
    "        bigquery.SchemaField(\"high_value\", bigquery.enums.SqlTypeNames.FLOAT64),\n",
    "        bigquery.SchemaField(\"low_value\", bigquery.enums.SqlTypeNames.FLOAT64),\n",
    "        bigquery.SchemaField(\"volume_base\", bigquery.enums.SqlTypeNames.FLOAT64),\n",
    "        bigquery.SchemaField(\"volume_quote\", bigquery.enums.SqlTypeNames.FLOAT64),\n",
    "        bigquery.SchemaField(\"close_value\", bigquery.enums.SqlTypeNames.FLOAT64),\n",
    "    ],\n",
    "    write_disposition=\"WRITE_TRUNCATE\",\n",
    ")\n",
    "\n",
    "job = client.load_table_from_dataframe(\n",
    "    df_pred, table_id, job_config=job_config\n",
    ")  \n",
    "job.result()  \n",
    "\n",
    "table = client.get_table(table_id)  \n",
    "print(\n",
    "    \"Operacion OK.  {} filas y {} columnas cargadas en {}\".format(\n",
    "        table.num_rows, len(table.schema), table_id\n",
    "    )\n",
    ")"
   ]
  },
  {
   "cell_type": "code",
   "execution_count": null,
   "id": "eef2382c",
   "metadata": {},
   "outputs": [],
   "source": [
    "batchPredJob = aiplatform.BatchPredictionJob.create(job_display_name=\"automljob\",\n",
    "                                                    model_name=\"<to_do_developer>\",\n",
    "                                                    instances_format=\"csv\",\n",
    "                                                    predictions_format=\"csv\",\n",
    "                                                    bigquery_source=\"bq://<to_do_developer>\"\",\n",
    "                                                    bigquery_destination_prefix=\"<to_do_developer>\"\n",
    "                                                    )"
   ]
  },
  {
   "cell_type": "code",
   "execution_count": null,
   "id": "50da3df0",
   "metadata": {},
   "outputs": [],
   "source": [
    "%%bigquery pred_df\n",
    "SELECT\n",
    "predicted_close_value.value,\n",
    "close_ts,\n",
    "FROM `velascoluis-test.prediction_candles_15min_OXTUSDAutoMLModel_2021_06_03T04_15_43_670Z.predictions`"
   ]
  },
  {
   "cell_type": "code",
   "execution_count": null,
   "id": "4010141a",
   "metadata": {},
   "outputs": [],
   "source": [
    "pred_df"
   ]
  },
  {
   "cell_type": "code",
   "execution_count": null,
   "id": "108d9331",
   "metadata": {},
   "outputs": [],
   "source": [
    "pred_df['value'].plot()\n",
    "pyplot.show()"
   ]
  }
 ],
 "metadata": {
  "environment": {
   "name": "common-cu110.m65",
   "type": "gcloud",
   "uri": "gcr.io/deeplearning-platform-release/base-cu110:m65"
  },
  "kernelspec": {
   "display_name": "Python 3",
   "language": "python",
   "name": "python3"
  },
  "language_info": {
   "codemirror_mode": {
    "name": "ipython",
    "version": 3
   },
   "file_extension": ".py",
   "mimetype": "text/x-python",
   "name": "python",
   "nbconvert_exporter": "python",
   "pygments_lexer": "ipython3",
   "version": "3.8.5"
  }
 },
 "nbformat": 4,
 "nbformat_minor": 5
}
